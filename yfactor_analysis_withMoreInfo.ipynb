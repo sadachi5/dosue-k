{
 "cells": [
  {
   "cell_type": "code",
   "execution_count": 2,
   "id": "92ba8025-a090-474c-8a6a-5b343226783c",
   "metadata": {},
   "outputs": [],
   "source": [
    "import numpy as np\n",
    "import matplotlib.pyplot as plt\n",
    "import os\n",
    "import sys\n",
    "import csv\n",
    "import function as func\n",
    "\n",
    "# Original\n",
    "'''\n",
    "outdatadir='./output/result_data/'\n",
    "outdir='./output/result_figure/yfactor'\n",
    "doRebin = False # Old rebinning (averaging) after dat_to_array\n",
    "'''\n",
    "\n",
    "# New rebin check\n",
    "'''\n",
    "outdatadir='./output/result_data_newrebin/'\n",
    "outdir='./output/result_figure_newrebin/yfactor'\n",
    "doRebin = True # Rebinning in dat_to_array\n",
    "'''\n",
    "\n",
    "# New rebin check: method=1\n",
    "outdatadir='./output/result_data_newrebin1/'\n",
    "#outdir='./output/result_figure_newrebin1/yfactor'\n",
    "# with new data in the output\n",
    "outdir='./output/result_figure_newrebin1/yfactor2'\n",
    "doRebin = True # Rebinning in dat_to_array\n",
    "rebinmethod = 1\n",
    "\n",
    "if not os.path.isdir(outdatadir):\n",
    "    os.makedirs(outdatadir)\n",
    "    pass\n",
    "if not os.path.isdir(outdir):\n",
    "    os.makedirs(outdir)\n",
    "    pass\n",
    "\n",
    "''' \n",
    "# original data columns\n",
    "column = [\n",
    "        \"freq\", \n",
    "        \"Gain\", \"Trx\", \"Gain_err\", \"Trx_err\", \n",
    "        \"Gain_ini\", \"Trx_ini\", \"Gain_ini_err\", \"Trx_ini_err\", \n",
    "        \"Gain_fin\", \"Trx_fin\", \"Gain_fin_err\", \"Trx_fin_err\"\n",
    "        ]\n",
    "#'''\n",
    "\n",
    "# new data columns for power spectrum\n",
    "column = [\n",
    "        \"freq\", \n",
    "        \"Gain\", \"Trx\", \"Gain_err\", \"Trx_err\", \n",
    "        \"Gain_ini\", \"Trx_ini\", \"Gain_ini_err\", \"Trx_ini_err\", \n",
    "        \"Gain_fin\", \"Trx_fin\", \"Gain_fin_err\", \"Trx_fin_err\",\n",
    "        \"P300_ini\", \"P300_fin\", \"P77_ini\", \"P77_fin\"\n",
    "        ]"
   ]
  },
  {
   "cell_type": "markdown",
   "id": "3e48464d",
   "metadata": {},
   "source": [
    "# Y-factor calibration for additional data (check data)"
   ]
  },
  {
   "cell_type": "code",
   "execution_count": 3,
   "id": "e39fdfe8-fef1-4e32-b39a-065e254f5de6",
   "metadata": {},
   "outputs": [],
   "source": [
    "def doYfactor(\n",
    "    start, \n",
    "    Tamb_ini=300.,\n",
    "    Tamb_fin=300.,\n",
    "    rbw_yfac = 300.,\n",
    "    is_add_data=False,\n",
    "    outfile = \"/data/ms2840a/yfactor_result/start_18.0GHz.csv\",\n",
    "    nfile=1\n",
    "    ):\n",
    "    \n",
    "    if not is_add_data:\n",
    "        path_300K_ini = f\"/data/ms2840a/yfactor_raw_data/initial_300K/scan_FFT_{start}GHz_span2.50MHz_rbw0.3kHz_1.0sec_1counts_1runs\"\n",
    "        path_300K_fin = f\"/data/ms2840a/yfactor_raw_data/final_300K/scan_FFT_{start}GHz_span2.50MHz_rbw0.3kHz_1.0sec_1counts_1runs\"\n",
    "        path_77K_ini = f\"/data/ms2840a/yfactor_raw_data/initial_77K/scan_FFT_{start}GHz_span2.50MHz_rbw0.3kHz_1.0sec_1counts_1runs\"\n",
    "        path_77K_fin = f\"/data/ms2840a/yfactor_raw_data/final_77K/scan_FFT_{start}GHz_span2.50MHz_rbw0.3kHz_1.0sec_1counts_1runs\"\n",
    "    else:\n",
    "        path_300K_ini = f\"/data/ms2840a/yfactor_300K_ini_check/2022-01-17/data/scan_FFT_{start}GHz_span2.50MHz_rbw0.3kHz_1.0sec_1counts_1runs\"\n",
    "        path_300K_fin = f\"/data/ms2840a/yfactor_300K_fin_check/2022-01-17/data/scan_FFT_{start}GHz_span2.50MHz_rbw0.3kHz_1.0sec_1counts_1runs\"\n",
    "        path_77K_ini = f\"/data/ms2840a/yfactor_77K_ini_check/2022-01-17/data/scan_FFT_{start}GHz_span2.50MHz_rbw0.3kHz_1.0sec_1counts_1runs\"\n",
    "        path_77K_fin = f\"/data/ms2840a/yfactor_77K_fin_check/2022-01-17/data/scan_FFT_{start}GHz_span2.50MHz_rbw0.3kHz_1.0sec_1counts_1runs\"\n",
    "        pass\n",
    "    \n",
    "    # Create result containers\n",
    "    result = {}\n",
    "    for _col in column:\n",
    "        result[_col] = []\n",
    "        pass\n",
    "    \n",
    "    for n in range(nfile):\n",
    "        filesuffix = f'_{n}' if nfile > 1 else  ''\n",
    "        # 300 K initial\n",
    "        path = f'{path_300K_ini}{filesuffix}.dat'\n",
    "        f, Wamb_ini, Wamb_ini_err = func.dat_to_array(path, doRebin=doRebin, rebinmethod=rebinmethod)\n",
    "        f, Wamb_ini, Wamb_ini_err = func.cut_data(f, Wamb_ini, Wamb_ini_err)\n",
    "        #func.print_list(f)\n",
    "        #func.print_list(Wamb_ini_err)\n",
    "        # Rebin to 2kHz bin-width\n",
    "        if not doRebin: f, Wamb_ini, Wamb_ini_err = func.rebin_func(f, Wamb_ini)\n",
    "        \n",
    "        # 300 K final\n",
    "        path = f'{path_300K_fin}{filesuffix}.dat'\n",
    "        f, Wamb_fin, Wamb_fin_err = func.dat_to_array(path, doRebin=doRebin, rebinmethod=rebinmethod)\n",
    "        f, Wamb_fin, Wamb_fin_err = func.cut_data(f, Wamb_fin, Wamb_fin_err)\n",
    "        # Rebin to 2kHz bin-width\n",
    "        if not doRebin: f, Wamb_fin, Wamb_fin_err = func.rebin_func(f, Wamb_fin)\n",
    "        \n",
    "        # 77 K initial\n",
    "        path = f'{path_77K_ini}{filesuffix}.dat'\n",
    "        f, WLN2_ini, WLN2_ini_err = func.dat_to_array(path, doRebin=doRebin, rebinmethod=rebinmethod)\n",
    "        f, WLN2_ini, WLN2_ini_err = func.cut_data(f, WLN2_ini, WLN2_ini_err)\n",
    "        # Rebin to 2kHz bin-width\n",
    "        if not doRebin: f, WLN2_ini, WLN2_ini_err = func.rebin_func(f, WLN2_ini)\n",
    "        \n",
    "        # 77 K final\n",
    "        path = f'{path_77K_fin}{filesuffix}.dat'\n",
    "        f, WLN2_fin, WLN2_fin_err = func.dat_to_array(path, doRebin=doRebin, rebinmethod=rebinmethod)\n",
    "        f, WLN2_fin, WLN2_fin_err = func.cut_data(f, WLN2_fin, WLN2_fin_err)\n",
    "        # Rebin to 2kHz bin-width\n",
    "        if not doRebin: f, WLN2_fin, WLN2_fin_err = func.rebin_func(f, WLN2_fin)\n",
    "  \n",
    "        Gain_ini, Trx_ini, Gain_ini_err, Trx_ini_err \\\n",
    "        = func.yfactor_analysis(f, Wamb_ini, WLN2_ini, Wamb_ini_err, WLN2_ini_err, Tamb_ini, rbw=rbw_yfac)\n",
    "        Gain_fin, Trx_fin, Gain_fin_err, Trx_fin_err \\\n",
    "        = func.yfactor_analysis(f, Wamb_fin, WLN2_fin, Wamb_fin_err, WLN2_fin_err, Tamb_fin, rbw=rbw_yfac)\n",
    "  \n",
    "        Gain = (Gain_ini + Gain_fin) / 2\n",
    "        Trx = (Trx_ini + Trx_fin) / 2\n",
    "        Gain_err = (Gain_ini_err**2 + Gain_fin_err**2)**0.5 / 2\n",
    "        Trx_err = (Trx_ini_err**2 + Trx_fin_err**2)**0.5 / 2\n",
    "        \n",
    "        result[\"freq\"].append(start)\n",
    "        result[\"Gain\"] += Gain.tolist()\n",
    "        result[\"Trx\"] += Trx.tolist()\n",
    "        result[\"Gain_err\"] += Gain_err.tolist()\n",
    "        result[\"Trx_err\"] += Trx_err.tolist()\n",
    "        result[\"Gain_ini\"] += Gain_ini.tolist()\n",
    "        result[\"Gain_fin\"] +Gain_fin.tolist()\n",
    "        result[\"Trx_ini\"] += Trx_ini.tolist()\n",
    "        result[\"Trx_fin\"] += Trx_fin.tolist()\n",
    "        result[\"Gain_ini_err\"] += Gain_ini_err.tolist()\n",
    "        result[\"Gain_fin_err\"] += Gain_fin_err.tolist()\n",
    "        result[\"Trx_ini_err\"] += Trx_ini_err.tolist()\n",
    "        result[\"Trx_fin_err\"] += Trx_fin_err.tolist()\n",
    "        # New data\n",
    "        result[\"P300_ini\"] += Wamb_ini.tolist()\n",
    "        result[\"P300_fin\"] += Wamb_fin.tolist()\n",
    "        result[\"P77_ini\"] += WLN2_ini.tolist()\n",
    "        result[\"P77_fin\"] += WLN2_fin.tolist()\n",
    "        pass # End of loop over files\n",
    "    \n",
    "    # List --> np.array in result\n",
    "    for _col in column:\n",
    "        result[_col] = np.array(result[_col])\n",
    "        pass\n",
    "\n",
    "    # Save mean of y-factor result in a 2MHz span\n",
    "    with open(outfile, \"a\") as f:\n",
    "        writer = csv.writer(f)\n",
    "        writer.writerow([\n",
    "            start, \n",
    "            np.mean(result[\"Gain\"]), \n",
    "            np.mean(result[\"Trx\"]), \n",
    "            np.mean(result[\"Gain_err\"]**2)**0.5/np.sqrt(nfile), \n",
    "            np.mean(result[\"Trx_err\"]**2)**0.5/np.sqrt(nfile), \n",
    "            np.mean(result[\"Gain_ini\"]), \n",
    "            np.mean(result[\"Gain_fin\"]), \n",
    "            np.mean(result[\"Trx_ini\"]), \n",
    "            np.mean(result[\"Trx_fin\"]), \n",
    "            np.mean(result[\"Gain_ini_err\"]**2)**0.5/np.sqrt(nfile), \n",
    "            np.mean(result[\"Gain_fin_err\"]**2)**0.5/np.sqrt(nfile), \n",
    "            np.mean(result[\"Trx_ini_err\"]**2)**0.5/np.sqrt(nfile), \n",
    "            np.mean(result[\"Trx_fin_err\"]**2)**0.5/np.sqrt(nfile),\n",
    "            # new data\n",
    "            np.mean(result[\"P300_ini\"]),\n",
    "            np.mean(result[\"P300_fin\"]),\n",
    "            np.mean(result[\"P77_ini\"]),\n",
    "            np.mean(result[\"P77_fin\"]),\n",
    "        ])\n",
    "\n",
    "        pass\n",
    "    return\n",
    "    \n",
    "\n",
    "def yfactor_checkdata():\n",
    "    check_freq = np.array([18190, 18336, 19120, 19186, 19440, 19478, 19766, 19794, 19818, 20006, 20296, 20302, 20490, 20540, 20892, 21442, 21808, 22522, 22672, 23306, 23808, 23934, 25328, 25352, 25860, 26274, 26346])\n",
    "    Tamb_ini = 13.9 + 273.15 # [K]\n",
    "    Tamb_fin = 13.7 + 273.15 # [K]\n",
    "    # RWB for y-factor calculation\n",
    "    if doRebin:\n",
    "        rbw_yfac = 2.0e+3 # 2kHz\n",
    "    else:\n",
    "        rbw_yfac = 300. # 300 Hz\n",
    "        pass\n",
    "    \n",
    "    # Number of files\n",
    "    nfile = 1\n",
    "     \n",
    "    #with open(f\"{outdatadir}/yfactor_result/start_{}GHz.csv\".format(str(start_freq)), \"w\") as f:\n",
    "    #with open(f\"{outdatadir}/yfactor_check_result.csv\", \"w\") as f:\n",
    "    with open(f\"{outdatadir}/yfactor_check_result.csv\", \"w\") as f:\n",
    "        writer = csv.writer(f)\n",
    "        writer.writerow(column)\n",
    "        pass\n",
    "        \n",
    "    for i in check_freq:\n",
    "        #print(result)\n",
    "        \n",
    "        word = list(str(i*1000 - 250))\n",
    "        word.insert(2, \".\")\n",
    "        start = \"\".join(word)\n",
    "        print(start)\n",
    "        \n",
    "        doYfactor(start=start, Tamb_ini=Tamb_ini, Tamb_fin=Tamb_fin, rbw_yfac=rbw_yfac,\n",
    "                  is_add_data=True, outfile = f\"{outdatadir}/yfactor_check_result.csv\")\n",
    "        pass # End of loop over check_freq\n",
    "            \n",
    "    \"\"\"        \n",
    "    print(10*np.log10(np.mean(result[\"Gain_ini\"])))\n",
    "    #print(np.mean(result[\"Trx_ini\"]))\n",
    "    print(np.std(result[\"Gain_ini\"])/len(result[\"Gain_ini\"])**0.5)\n",
    "    #print(np.std(result[\"Trx_ini\"])/len(result[\"Trx_ini\"])**0.5)\n",
    "    \"\"\"\n",
    "    \n",
    "    return"
   ]
  },
  {
   "cell_type": "code",
   "execution_count": 4,
   "id": "be8269af",
   "metadata": {},
   "outputs": [],
   "source": [
    "#yfactor_checkdata()"
   ]
  },
  {
   "cell_type": "markdown",
   "id": "049377c1",
   "metadata": {},
   "source": [
    "# Y-factor calibration for nominal data"
   ]
  },
  {
   "cell_type": "code",
   "execution_count": 8,
   "id": "f462f112",
   "metadata": {},
   "outputs": [],
   "source": [
    "def yfactor_data(\n",
    "    yfactor_dir = f'{outdatadir}/yfactor_result'\n",
    "    ):\n",
    "    # RWB for y-factor calculation\n",
    "    if doRebin:\n",
    "        rbw_yfac = 2.0e+3 # 2kHz\n",
    "    else:\n",
    "        rbw_yfac = 300. # 300 Hz\n",
    "        pass\n",
    "    \n",
    "    # Number of files\n",
    "    nfile = 1\n",
    "    \n",
    "    if not os.path.isdir(yfactor_dir):\n",
    "        os.makedirs(yfactor_dir)\n",
    "        pass\n",
    "    \n",
    "    # Loop over frequencies with 100MHz spans\n",
    "    # Each 100MHz span has one set of calibration parameters\n",
    "    #for i in range(180, 265, 1):\n",
    "    for i in range(216, 265, 1):\n",
    "        if i%10 == 0: print(f'*** Starting freq = {i/10.} GHz ***')\n",
    "        # Get frequency in filename\n",
    "        word = list(str(i))\n",
    "        word.insert(2, \".\") # Need to >10 GHz\n",
    "        start_100MHz = float(\"\".join(word))\n",
    "        print(start_100MHz)\n",
    "        \n",
    "        initial = int(start_100MHz * 1.e+6 - 250)\n",
    "        final = int(initial + 1.e+5) # initial + 100 MHz\n",
    " \n",
    "        # Temperature (temporary values)\n",
    "        Tamb_ini = 15 + 273.15 # [K]\n",
    "        Tamb_fin = 15 + 273.15 # [K]\n",
    "        \n",
    "        outfile = f\"{yfactor_dir}/start_{str(start_100MHz)}GHz.csv\"\n",
    "        with open(outfile, \"w\") as f:\n",
    "            writer = csv.writer(f)\n",
    "            writer.writerow(column)\n",
    "            pass\n",
    "           \n",
    "        # Loop over 2MHz datas in a 100MHz span\n",
    "        for j in range(initial, final, 2000):\n",
    "            word = list(str(j))\n",
    "            word.insert(2, \".\") # Need to >10 GHz\n",
    "            start = \"\".join(word)\n",
    "            \n",
    "            # Do & save the yfactor calibration\n",
    "            doYfactor(start=start, Tamb_ini=Tamb_ini, Tamb_fin=Tamb_fin, rbw_yfac=rbw_yfac,\n",
    "                  is_add_data=False, outfile = outfile)\n",
    "            \n",
    "            pass # End of loop over 2MHz datas in a 100MHz span\n",
    "        \n",
    "        pass # End of loop over 100MHz span from 18GHz to 26.5GHz\n",
    "    \n",
    "    return"
   ]
  },
  {
   "cell_type": "code",
   "execution_count": 9,
   "id": "b956d049",
   "metadata": {
    "scrolled": true
   },
   "outputs": [
    {
     "name": "stdout",
     "output_type": "stream",
     "text": [
      "21.6\n",
      "21.7\n",
      "21.8\n",
      "21.9\n",
      "*** Starting freq = 22.0 GHz ***\n",
      "22.0\n",
      "22.1\n",
      "22.2\n",
      "22.3\n",
      "22.4\n",
      "22.5\n",
      "22.6\n",
      "22.7\n",
      "22.8\n",
      "22.9\n",
      "*** Starting freq = 23.0 GHz ***\n",
      "23.0\n",
      "23.1\n",
      "23.2\n",
      "23.3\n",
      "23.4\n",
      "23.5\n",
      "23.6\n",
      "23.7\n",
      "23.8\n",
      "23.9\n",
      "*** Starting freq = 24.0 GHz ***\n",
      "24.0\n",
      "24.1\n",
      "24.2\n",
      "24.3\n",
      "24.4\n",
      "24.5\n",
      "24.6\n",
      "24.7\n",
      "24.8\n",
      "24.9\n",
      "*** Starting freq = 25.0 GHz ***\n",
      "25.0\n",
      "25.1\n",
      "25.2\n",
      "25.3\n",
      "25.4\n",
      "25.5\n",
      "25.6\n",
      "25.7\n",
      "25.8\n",
      "25.9\n",
      "*** Starting freq = 26.0 GHz ***\n",
      "26.0\n",
      "26.1\n",
      "26.2\n",
      "26.3\n",
      "26.4\n"
     ]
    }
   ],
   "source": [
    "#yfactor_data(yfactor_dir=f'{outdatadir}/yfactor_result')\n",
    "yfactor_data(yfactor_dir=f'{outdatadir}/yfactor_result2')"
   ]
  },
  {
   "cell_type": "markdown",
   "id": "b09f3826",
   "metadata": {},
   "source": [
    "## Combine all y-factor results in one file"
   ]
  },
  {
   "cell_type": "code",
   "execution_count": 10,
   "id": "86465de1",
   "metadata": {},
   "outputs": [],
   "source": [
    "#yfactor_dir = f'{outdatadir}/yfactor_result'\n",
    "yfactor_dir = f'{outdatadir}/yfactor_result2'\n",
    "with open(f\"{outdatadir}/yfactor_result2_rebin2MHz.csv\", \"w\") as f:\n",
    "    writer = csv.writer(f)\n",
    "    i_start = 180\n",
    "    i_end   = 265\n",
    "    for i in range(i_start, i_end, 1):\n",
    "        start_100MHz = i/10.\n",
    "        start_100MHz = round(start_100MHz, 1)\n",
    "        start_100MHz = f'{start_100MHz:.1f}'\n",
    "        \n",
    "        _filename =  f\"{yfactor_dir}/start_{start_100MHz}GHz.csv\"\n",
    "        data = func.csv_to_array(_filename)\n",
    "        keys = list(data.keys())\n",
    "        if i == i_start: writer.writerow(keys)\n",
    "        \n",
    "        #print(keys)\n",
    "        #print(data[keys[0]])\n",
    "        #print(len(data[keys[0]]))\n",
    "        \n",
    "        for j in range(len(data[keys[0]])):\n",
    "            _result = [ data[key][j] for key in keys ]\n",
    "            writer.writerow(_result)\n",
    "            pass # End of loop over 100MHz\n",
    "        \n",
    "        pass # End of loop over all frequency\n",
    "    pass # Close the output file"
   ]
  },
  {
   "cell_type": "code",
   "execution_count": null,
   "id": "2475d900",
   "metadata": {},
   "outputs": [],
   "source": []
  },
  {
   "cell_type": "code",
   "execution_count": null,
   "id": "9ed51380",
   "metadata": {},
   "outputs": [],
   "source": []
  },
  {
   "cell_type": "markdown",
   "id": "16d6669e",
   "metadata": {},
   "source": [
    "# NOT USED"
   ]
  },
  {
   "cell_type": "code",
   "execution_count": 2,
   "id": "0ed6c4f2-fe92-4eda-8845-2a05c47e1589",
   "metadata": {},
   "outputs": [
    {
     "data": {
      "text/plain": [
       "[<matplotlib.lines.Line2D at 0x7fae51433520>]"
      ]
     },
     "execution_count": 2,
     "metadata": {},
     "output_type": "execute_result"
    },
    {
     "data": {
      "image/png": "[encoded data removed]",
      "text/plain": [
       "<Figure size 432x288 with 1 Axes>"
      ]
     },
     "metadata": {
      "needs_background": "light"
     },
     "output_type": "display_data"
    }
   ],
   "source": [
    "path = f\"/data/ms2840a/result_data/signal_raw_data.csv\"\n",
    "data = func.csv_to_array(path)\n",
    "plt.plot(data[\"freq\"], data[\"W\"])"
   ]
  },
  {
   "cell_type": "code",
   "execution_count": 3,
   "id": "b5f894a6-4ce4-49cf-a290-e4c706e8bc25",
   "metadata": {},
   "outputs": [
    {
     "name": "stdout",
     "output_type": "stream",
     "text": [
      "111413750\n"
     ]
    }
   ],
   "source": [
    "print(len(data[\"W\"]))"
   ]
  },
  {
   "cell_type": "code",
   "execution_count": 5,
   "id": "40e0a3fd-23c2-4782-80f4-19441152e0e5",
   "metadata": {},
   "outputs": [
    {
     "name": "stdout",
     "output_type": "stream",
     "text": [
      "4250\n"
     ]
    }
   ],
   "source": [
    "y = func.csv_to_array(\"/data/ms2840a/result_data/yfactor_result_rebin2MHz.csv\")\n",
    "print(len(y[\"Gain\"]))"
   ]
  },
  {
   "cell_type": "code",
   "execution_count": 6,
   "id": "70b4e1dc-4655-4fe6-9e58-f63d8b8c9efc",
   "metadata": {},
   "outputs": [],
   "source": [
    "freq, W, Werr = func.any_rebin_func(data[\"freq\"], data[\"W\"], 0.002)"
   ]
  },
  {
   "cell_type": "code",
   "execution_count": 34,
   "id": "e4994bbf-afa1-47fb-81e8-de5297247720",
   "metadata": {},
   "outputs": [
    {
     "name": "stdout",
     "output_type": "stream",
     "text": [
      "[  0  50 100 150 200 250 300 350 400]\n"
     ]
    }
   ],
   "source": [
    "Tsys = W/y[\"Gain\"][:-1]/1.380649e-23/300\n",
    "\n",
    "rebin = 50\n",
    "nbin = (int)(freq.size/rebin)\n",
    "def average(x):\n",
    "    x_ave = x[:nbin*rebin]\n",
    "    x_ave = x_ave.reshape(nbin, rebin)\n",
    "    return np.average(x_ave, axis=1)\n",
    "\n",
    "freq_ave = average(freq)\n",
    "Tsys_ave = average(Tsys)\n",
    "Trx_ave = average(y['Trx'])\n",
    "Tload_ave = Tsys_ave - Trx_ave\n",
    "gain_ave = average(y['Gain'])\n",
    "\n",
    "yticks =  np.arange(0,450,50)\n",
    "print(yticks)"
   ]
  },
  {
   "cell_type": "code",
   "execution_count": 43,
   "id": "db365e6c",
   "metadata": {},
   "outputs": [
    {
     "data": {
      "text/plain": [
       "([<matplotlib.axis.YTick at 0x7fae4dff2f70>,\n",
       "  <matplotlib.axis.YTick at 0x7fae4dff20a0>,\n",
       "  <matplotlib.axis.YTick at 0x7fae4de6a160>,\n",
       "  <matplotlib.axis.YTick at 0x7fae4de0eb20>,\n",
       "  <matplotlib.axis.YTick at 0x7fae4dab12b0>,\n",
       "  <matplotlib.axis.YTick at 0x7fae4dab1a00>,\n",
       "  <matplotlib.axis.YTick at 0x7fae4daac190>,\n",
       "  <matplotlib.axis.YTick at 0x7fae4daac8e0>,\n",
       "  <matplotlib.axis.YTick at 0x7fae4dabb070>],\n",
       " [Text(0, 0, ''),\n",
       "  Text(0, 0, ''),\n",
       "  Text(0, 0, ''),\n",
       "  Text(0, 0, ''),\n",
       "  Text(0, 0, ''),\n",
       "  Text(0, 0, ''),\n",
       "  Text(0, 0, ''),\n",
       "  Text(0, 0, ''),\n",
       "  Text(0, 0, '')])"
      ]
     },
     "execution_count": 43,
     "metadata": {},
     "output_type": "execute_result"
    },
    {
     "data": {
      "image/png": "[encoded data removed]",
      "text/plain": [
       "<Figure size 1440x504 with 1 Axes>"
      ]
     },
     "metadata": {
      "needs_background": "light"
     },
     "output_type": "display_data"
    }
   ],
   "source": [
    "plt.rcParams[\"font.size\"] = 36 \n",
    "fig = plt.figure(figsize=(20,7))\n",
    "plt.plot(freq_ave, Trx_ave, lw=2)\n",
    "plt.grid()\n",
    "plt.xlabel(\"Frequency [GHz]\")\n",
    "plt.ylabel(r\"$T_\\mathrm{rx}$ [K]\")\n",
    "plt.ylim([0,300])\n",
    "plt.yticks(yticks)\n",
    "#plt.savefig(\"../result_figure/Trx.pdf\")"
   ]
  },
  {
   "cell_type": "code",
   "execution_count": 40,
   "id": "17006974-680d-456e-beae-98a9a968ebae",
   "metadata": {},
   "outputs": [
    {
     "data": {
      "text/plain": [
       "([<matplotlib.axis.YTick at 0x7fae4db5b580>,\n",
       "  <matplotlib.axis.YTick at 0x7fae4dba5fa0>,\n",
       "  <matplotlib.axis.YTick at 0x7fae4dcbe8b0>,\n",
       "  <matplotlib.axis.YTick at 0x7fae4db6a250>,\n",
       "  <matplotlib.axis.YTick at 0x7fae4db6a9a0>,\n",
       "  <matplotlib.axis.YTick at 0x7fae4daef130>,\n",
       "  <matplotlib.axis.YTick at 0x7fae4daef880>,\n",
       "  <matplotlib.axis.YTick at 0x7fae4daf30a0>,\n",
       "  <matplotlib.axis.YTick at 0x7fae4daf3760>],\n",
       " [Text(0, 0, ''),\n",
       "  Text(0, 0, ''),\n",
       "  Text(0, 0, ''),\n",
       "  Text(0, 0, ''),\n",
       "  Text(0, 0, ''),\n",
       "  Text(0, 0, ''),\n",
       "  Text(0, 0, ''),\n",
       "  Text(0, 0, ''),\n",
       "  Text(0, 0, '')])"
      ]
     },
     "execution_count": 40,
     "metadata": {},
     "output_type": "execute_result"
    },
    {
     "data": {
      "image/png": "[encoded data removed]",
      "text/plain": [
       "<Figure size 432x288 with 1 Axes>"
      ]
     },
     "metadata": {
      "needs_background": "light"
     },
     "output_type": "display_data"
    }
   ],
   "source": [
    "plt.rcParams[\"font.size\"] = 16 \n",
    "fig = plt.figure(figsize=(6,4))\n",
    "plt.plot(freq_ave, Tsys_ave, lw=2)\n",
    "plt.grid()\n",
    "plt.xlabel(\"Frequency [GHz]\")\n",
    "plt.ylabel(r\"$T_\\mathrm{sys}$ [K]\")\n",
    "plt.ylim([0,400])\n",
    "plt.yticks(yticks)\n",
    "#plt.savefig(\"../result_figure/Tsys.pdf\")"
   ]
  },
  {
   "cell_type": "code",
   "execution_count": 41,
   "id": "2f46af5a-e449-4325-9504-23fced9cd600",
   "metadata": {},
   "outputs": [
    {
     "data": {
      "text/plain": [
       "([<matplotlib.axis.YTick at 0x7fae4de08640>,\n",
       "  <matplotlib.axis.YTick at 0x7fae4de08eb0>,\n",
       "  <matplotlib.axis.YTick at 0x7fae4db06dc0>,\n",
       "  <matplotlib.axis.YTick at 0x7fae4de00580>,\n",
       "  <matplotlib.axis.YTick at 0x7fae4de00fa0>,\n",
       "  <matplotlib.axis.YTick at 0x7fae4df08880>,\n",
       "  <matplotlib.axis.YTick at 0x7fae4de00f40>,\n",
       "  <matplotlib.axis.YTick at 0x7fae4df08c10>,\n",
       "  <matplotlib.axis.YTick at 0x7fae4f3f0eb0>],\n",
       " [Text(0, 0, ''),\n",
       "  Text(0, 0, ''),\n",
       "  Text(0, 0, ''),\n",
       "  Text(0, 0, ''),\n",
       "  Text(0, 0, ''),\n",
       "  Text(0, 0, ''),\n",
       "  Text(0, 0, ''),\n",
       "  Text(0, 0, ''),\n",
       "  Text(0, 0, '')])"
      ]
     },
     "execution_count": 41,
     "metadata": {},
     "output_type": "execute_result"
    },
    {
     "data": {
      "image/png": "[encoded data removed]",
      "text/plain": [
       "<Figure size 432x288 with 1 Axes>"
      ]
     },
     "metadata": {
      "needs_background": "light"
     },
     "output_type": "display_data"
    }
   ],
   "source": [
    "plt.rcParams[\"font.size\"] = 16 \n",
    "fig = plt.figure(figsize=(6,4))\n",
    "plt.plot(freq_ave, Tload_ave, )\n",
    "plt.grid()\n",
    "plt.xlabel(\"Frequency [GHz]\")\n",
    "plt.ylabel(r\"$T_\\mathrm{load}$ [K]\")\n",
    "plt.ylim([0,400])\n",
    "plt.yticks(yticks)\n",
    "#plt.savefig(\"../result_figure/Tload.pdf\")"
   ]
  },
  {
   "cell_type": "code",
   "execution_count": null,
   "id": "17e49f2a-ad01-4458-8dce-6d38702a3c5f",
   "metadata": {},
   "outputs": [],
   "source": []
  }
 ],
 "metadata": {
  "kernelspec": {
   "display_name": "Python 3 (ipykernel)",
   "language": "python",
   "name": "python3"
  },
  "language_info": {
   "codemirror_mode": {
    "name": "ipython",
    "version": 3
   },
   "file_extension": ".py",
   "mimetype": "text/x-python",
   "name": "python",
   "nbconvert_exporter": "python",
   "pygments_lexer": "ipython3",
   "version": "3.8.10"
  },
  "toc": {
   "base_numbering": 1,
   "nav_menu": {},
   "number_sections": true,
   "sideBar": true,
   "skip_h1_title": false,
   "title_cell": "Table of Contents",
   "title_sidebar": "Contents",
   "toc_cell": false,
   "toc_position": {},
   "toc_section_display": true,
   "toc_window_display": true
  }
 },
 "nbformat": 4,
 "nbformat_minor": 5
}
