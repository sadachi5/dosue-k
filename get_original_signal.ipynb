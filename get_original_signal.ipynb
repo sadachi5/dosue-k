{
 "cells": [
  {
   "cell_type": "code",
   "execution_count": 1,
   "id": "616609db-c865-47d1-9207-2a8c11403e8c",
   "metadata": {},
   "outputs": [],
   "source": [
    "import numpy as np\n",
    "import matplotlib.pyplot as plt\n",
    "import csv\n",
    "import sys\n",
    "import function as func"
   ]
  },
  {
   "cell_type": "code",
   "execution_count": 2,
   "id": "2e6355ae-b9ad-4f5b-b7fe-e8b4592cbb99",
   "metadata": {},
   "outputs": [],
   "source": [
    "# Constants\n",
    "v_c = 220.e+3 # [m/sec] speed of solar system\n",
    "v_E = v_c # [m/sec] speed of earth\n",
    "c = 299792458. # [m/sec] speed of light from wikipedia\n",
    "k_B = 1.380649e-23 # [J/K] boltzmann constant\n",
    "rbw = 3.e+2 # [Hz]\n",
    "binwidth = 2.e+3 # [Hz]\n",
    "TLN2 = 77 # [K]"
   ]
  },
  {
   "cell_type": "code",
   "execution_count": 7,
   "id": "7c404957-2955-4dde-b988-c3f73d08876d",
   "metadata": {},
   "outputs": [
    {
     "name": "stdout",
     "output_type": "stream",
     "text": [
      "18.189750\n",
      "18.335750\n",
      "19.119750\n",
      "19.185750\n",
      "19.439750\n",
      "19.477750\n",
      "19.765750\n",
      "19.793750\n",
      "19.817750\n",
      "20.005750\n",
      "20.295750\n",
      "20.301750\n",
      "20.489750\n",
      "20.539750\n",
      "20.891750\n",
      "21.441750\n",
      "21.807750\n",
      "22.521750\n",
      "22.671750\n",
      "23.305750\n",
      "23.807750\n",
      "23.933750\n",
      "25.327750\n",
      "25.351750\n",
      "25.859750\n",
      "26.273750\n",
      "26.345750\n"
     ]
    }
   ],
   "source": [
    "if __name__ == \"__main__\":\n",
    "    \"\"\"\n",
    "    check_freq = np.array([18190, 18336, 19120, 19186, 19440, 19478, 19766, 19794, 19818, 20006, 20296, 20302, 20490, 20540, 20892, 21442, 21808, 22522, 22672, 23306, 23808, 23934, 25328, 25352, 25860, 26274, 26346])\n",
    "    for p in check_freq:\n",
    "        start_freq = p/10\n",
    "        #print(start_freq)\n",
    "        \n",
    "        initial = int(start_freq * 1.e+6 - 250)\n",
    "        final = int(initial + 1.e+5)\n",
    "    \"\"\"\n",
    "\n",
    "    yfactor = func.csv_to_array(\"/data/ms2840a/result_data/check_result/yfactor_check_result.csv\")\n",
    "\n",
    "    check_freq = np.array([18190, 18336, 19120, 19186, 19440, 19478, 19766, 19794, 19818, 20006, 20296, 20302, 20490, 20540, 20892, 21442, 21808, 22522, 22672, 23306, 23808, 23934, 25328, 25352, 25860, 26274, 26346])\n",
    "\n",
    "    for i in check_freq:\n",
    "        word = list(str(i*1000 - 250))\n",
    "        word.insert(2, \".\")\n",
    "        start = \"\".join(word)\n",
    "        print(start)\n",
    "\n",
    "        Gain = 0\n",
    "        Trx = 0\n",
    "        Gain_err = 0\n",
    "        Trx_err = 0\n",
    "        for _f, freq in enumerate(yfactor[\"freq\"]):\n",
    "            if float(freq) * 1e+6 == float(start) * 1e+6:\n",
    "                Gain = yfactor[\"Gain\"][_f]\n",
    "                Trx = yfactor[\"Trx\"][_f]\n",
    "                Gain_err = yfactor[\"Gain_err\"][_f]\n",
    "                Trx_err = yfactor[\"Trx_err\"][_f]\n",
    "                break\n",
    "\n",
    "        W_twelve = []\n",
    "        freq = np.array([])\n",
    "        for j in range(12):\n",
    "            path = \"/data/ms2840a/signal_data_check/2022-01-17/data/scan_FFT_\" + start + \"GHz_span2.50MHz_rbw0.3kHz_20.0sec_1counts_12runs_\" + str(j) + \".dat\"\n",
    "            freq, W = func.dat_to_array(path)\n",
    "            W_twelve.append(W/Gain - k_B*Trx*rbw)\n",
    "\n",
    "        column = [\"freq\"] + [\"W_{}\".format(str(x)) for x in range(12)]\n",
    "        with open(\"/data/ms2840a/result_data/check_result/signal_12_data/start_{}GHz.csv\".format(start), \"w\") as f:\n",
    "            writer = csv.writer(f)\n",
    "            writer.writerow(column)\n",
    "            for j in range(len(freq)):\n",
    "                writer.writerow([freq[j]] + [W_twelve[x][j] for x in range(12)])"
   ]
  },
  {
   "cell_type": "code",
   "execution_count": null,
   "id": "4d5583cf-67ec-42c5-8342-523a091d28c6",
   "metadata": {},
   "outputs": [],
   "source": []
  },
  {
   "cell_type": "code",
   "execution_count": null,
   "id": "763f4b50-8ffc-4d7e-9657-d8c1f31901b3",
   "metadata": {},
   "outputs": [],
   "source": []
  }
 ],
 "metadata": {
  "kernelspec": {
   "display_name": "Python 3 (ipykernel)",
   "language": "python",
   "name": "python3"
  },
  "language_info": {
   "codemirror_mode": {
    "name": "ipython",
    "version": 3
   },
   "file_extension": ".py",
   "mimetype": "text/x-python",
   "name": "python",
   "nbconvert_exporter": "python",
   "pygments_lexer": "ipython3",
   "version": "3.8.10"
  }
 },
 "nbformat": 4,
 "nbformat_minor": 5
}
