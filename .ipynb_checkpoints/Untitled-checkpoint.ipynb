{
 "cells": [
  {
   "cell_type": "code",
   "execution_count": 1,
   "id": "dc4d39ae-b86f-4756-8c70-d468e87cb0de",
   "metadata": {},
   "outputs": [],
   "source": [
    "import numpy as np\n",
    "import matplotlib.pyplot as plt\n",
    "import function as func\n",
    "import sys"
   ]
  },
  {
   "cell_type": "code",
   "execution_count": 29,
   "id": "74c62e0a-0469-4e23-9320-4931f2f9a241",
   "metadata": {},
   "outputs": [
    {
     "name": "stdout",
     "output_type": "stream",
     "text": [
      "18.0\n",
      "63.54 32.77 160.1 0.26\n",
      "63.55 32.79 159.84 0.26\n",
      "\n",
      "\n",
      "18.1\n",
      "63.73 32.97 159.45 0.26\n",
      "63.74 32.97 159.28 0.26\n",
      "\n",
      "\n"
     ]
    }
   ],
   "source": [
    "for i in range(180, 182, 1):\n",
    "    word = list(str(i))\n",
    "    word.insert(2, \".\")\n",
    "    start_freq = float(\"\".join(word))\n",
    "    print(start_freq)\n",
    "    \n",
    "    path = \"/data/ms2840a/result_data/yfactor_result/start_{}GHz.csv\".format(str(start_freq))\n",
    "    y = func.csv_to_array(path)\n",
    "    print(\"Gain_ini\", \"Gain_ini_err\", \"Trx_ini\", \"Trx_ini_err\")\n",
    "    print(np.round(10*np.log10(np.mean(y[\"Gain_ini\"])),2), np.round(10*np.log10(np.mean(y[\"Gain_ini_err\"])),2), np.round(np.mean(y[\"Trx_ini\"]),2), np.round(np.mean(y[\"Trx_ini_err\"]),2))\n",
    "    print(np.round(10*np.log10(np.mean(y[\"Gain_fin\"])),2), np.round(10*np.log10(np.mean(y[\"Gain_fin_err\"])),2), np.round(np.mean(y[\"Trx_fin\"]),2), np.round(np.mean(y[\"Trx_fin_err\"]),2))\n",
    "    print()\n",
    "    print()\n",
    "    #column = [\"freq\", \"Gain\", \"Trx\", \"Gain_err\", \"Trx_err\", \"Gain_ini\", \"Gain_fin\", \"Trx_ini\", \"Trx_fin\", \"Gain_ini_err\", \"Gain_fin_err\", \"Trx_ini_err\", \"Trx_fin_err\"]\n"
   ]
  },
  {
   "cell_type": "code",
   "execution_count": null,
   "id": "89c70d3f-85cd-4d09-a552-9513ff4d7d59",
   "metadata": {},
   "outputs": [],
   "source": []
  }
 ],
 "metadata": {
  "kernelspec": {
   "display_name": "Python 3 (ipykernel)",
   "language": "python",
   "name": "python3"
  },
  "language_info": {
   "codemirror_mode": {
    "name": "ipython",
    "version": 3
   },
   "file_extension": ".py",
   "mimetype": "text/x-python",
   "name": "python",
   "nbconvert_exporter": "python",
   "pygments_lexer": "ipython3",
   "version": "3.8.10"
  }
 },
 "nbformat": 4,
 "nbformat_minor": 5
}
