{
 "cells": [
  {
   "cell_type": "code",
   "execution_count": 1,
   "id": "92ba8025-a090-474c-8a6a-5b343226783c",
   "metadata": {},
   "outputs": [],
   "source": [
    "import numpy as np\n",
    "import matplotlib.pyplot as plt\n",
    "import sys\n",
    "import csv\n",
    "import function as func"
   ]
  },
  {
   "cell_type": "code",
   "execution_count": 22,
   "id": "e39fdfe8-fef1-4e32-b39a-065e254f5de6",
   "metadata": {},
   "outputs": [
    {
     "ename": "ValueError",
     "evalue": "not enough values to unpack (expected 3, got 2)",
     "output_type": "error",
     "traceback": [
      "\u001b[0;31m---------------------------------------------------------------------------\u001b[0m",
      "\u001b[0;31mValueError\u001b[0m                                Traceback (most recent call last)",
      "\u001b[0;32m/tmp/ipykernel_43371/520039217.py\u001b[0m in \u001b[0;36m<module>\u001b[0;34m\u001b[0m\n\u001b[1;32m     22\u001b[0m         \u001b[0mf\u001b[0m\u001b[0;34m,\u001b[0m \u001b[0mWamb_ini\u001b[0m \u001b[0;34m=\u001b[0m \u001b[0mfunc\u001b[0m\u001b[0;34m.\u001b[0m\u001b[0mdat_to_array\u001b[0m\u001b[0;34m(\u001b[0m\u001b[0mpath\u001b[0m\u001b[0;34m)\u001b[0m\u001b[0;34m\u001b[0m\u001b[0;34m\u001b[0m\u001b[0m\n\u001b[1;32m     23\u001b[0m         \u001b[0mf\u001b[0m\u001b[0;34m,\u001b[0m \u001b[0mWamb_ini\u001b[0m \u001b[0;34m=\u001b[0m \u001b[0mfunc\u001b[0m\u001b[0;34m.\u001b[0m\u001b[0mcut_data\u001b[0m\u001b[0;34m(\u001b[0m\u001b[0mf\u001b[0m\u001b[0;34m,\u001b[0m \u001b[0mWamb_ini\u001b[0m\u001b[0;34m)\u001b[0m\u001b[0;34m\u001b[0m\u001b[0;34m\u001b[0m\u001b[0m\n\u001b[0;32m---> 24\u001b[0;31m         \u001b[0mf\u001b[0m\u001b[0;34m,\u001b[0m \u001b[0mWamb_ini\u001b[0m\u001b[0;34m,\u001b[0m \u001b[0mWamb_ini_err\u001b[0m \u001b[0;34m=\u001b[0m \u001b[0mfunc\u001b[0m\u001b[0;34m.\u001b[0m\u001b[0mrebin_func\u001b[0m\u001b[0;34m(\u001b[0m\u001b[0mf\u001b[0m\u001b[0;34m,\u001b[0m \u001b[0mWamb_ini\u001b[0m\u001b[0;34m)\u001b[0m\u001b[0;34m\u001b[0m\u001b[0;34m\u001b[0m\u001b[0m\n\u001b[0m\u001b[1;32m     25\u001b[0m         \u001b[0mpath\u001b[0m \u001b[0;34m=\u001b[0m \u001b[0;34m\"/data/ms2840a/yfactor_raw_data/final_300K/scan_FFT_{}GHz_span2.50MHz_rbw0.3kHz_1.0sec_1counts_1runs.dat\"\u001b[0m\u001b[0;34m.\u001b[0m\u001b[0mformat\u001b[0m\u001b[0;34m(\u001b[0m\u001b[0mstart\u001b[0m\u001b[0;34m)\u001b[0m\u001b[0;34m\u001b[0m\u001b[0;34m\u001b[0m\u001b[0m\n\u001b[1;32m     26\u001b[0m         \u001b[0mf\u001b[0m\u001b[0;34m,\u001b[0m \u001b[0mWamb_fin\u001b[0m \u001b[0;34m=\u001b[0m \u001b[0mfunc\u001b[0m\u001b[0;34m.\u001b[0m\u001b[0mdat_to_array\u001b[0m\u001b[0;34m(\u001b[0m\u001b[0mpath\u001b[0m\u001b[0;34m)\u001b[0m\u001b[0;34m\u001b[0m\u001b[0;34m\u001b[0m\u001b[0m\n",
      "\u001b[0;31mValueError\u001b[0m: not enough values to unpack (expected 3, got 2)"
     ]
    }
   ],
   "source": [
    "if __name__ == \"__main__\":\n",
    "    start_freq = 18.0\n",
    "    Tamb_ini = 17.8 + 273.15 # [K]\n",
    "    Tamb_fin = 17.9 + 273.15 # [K]\n",
    "    \n",
    "    initial = int(start_freq * 1.e+6 - 250)\n",
    "    final = int(initial + 1.e+5)\n",
    "\n",
    "    column = [\"freq\", \"Gain\", \"Trx\", \"Gain_err\", \"Trx_err\", \"Gain_ini\", \"Gain_fin\", \"Trx_ini\", \"Trx_fin\", \"Gain_ini_err\", \"Gain_fin_err\", \"Trx_ini_err\", \"Trx_fin_err\"]\n",
    "    with open(\"/data/ms2840a/result_data/yfactor_result/start_{}GHz.csv\".format(str(start_freq)), \"w\") as f:\n",
    "        writer = csv.writer(f)\n",
    "        writer.writerow(column)\n",
    "\n",
    "    for i in range(initial, final, 2000):\n",
    "        word = list(str(i))\n",
    "        word.insert(2, \".\")\n",
    "        start = \"\".join(word)\n",
    "        #print(start)\n",
    "\n",
    "        # 300 K\n",
    "        path = \"/data/ms2840a/yfactor_raw_data/initial_300K/scan_FFT_{}GHz_span2.50MHz_rbw0.3kHz_1.0sec_1counts_1runs.dat\".format(start)\n",
    "        f, Wamb_ini = func.dat_to_array(path)\n",
    "        f, Wamb_ini = func.cut_data(f, Wamb_ini)\n",
    "        f, Wamb_ini, Wamb_ini_err = func.rebin_func(f, Wamb_ini)\n",
    "        path = \"/data/ms2840a/yfactor_raw_data/final_300K/scan_FFT_{}GHz_span2.50MHz_rbw0.3kHz_1.0sec_1counts_1runs.dat\".format(start)\n",
    "        f, Wamb_fin = func.dat_to_array(path)\n",
    "        f, Wamb_fin = func.cut_data(f, Wamb_fin)\n",
    "        f, Wamb_fin, Wamb_fin_err = func.rebin_func(f, Wamb_fin)\n",
    "        # 77 K\n",
    "        path = \"/data/ms2840a/yfactor_raw_data/initial_77K/scan_FFT_{}GHz_span2.50MHz_rbw0.3kHz_1.0sec_1counts_1runs.dat\".format(start)\n",
    "        f, WLN2_ini = func.dat_to_array(path)\n",
    "        f, WLN2_ini = func.cut_data(f, WLN2_ini)\n",
    "        f, WLN2_ini, WLN2_ini_err = func.rebin_func(f, WLN2_ini)\n",
    "        path = \"/data/ms2840a/yfactor_raw_data/final_77K/scan_FFT_{}GHz_span2.50MHz_rbw0.3kHz_1.0sec_1counts_1runs.dat\".format(start)\n",
    "        f, WLN2_fin = func.dat_to_array(path)\n",
    "        f, WLN2_fin = func.cut_data(f, WLN2_fin)\n",
    "        f, WLN2_fin, WLN2_fin_err = func.rebin_func(f, WLN2_fin)\n",
    "\n",
    "        Gain_ini, Trx_ini, Gain_ini_err, Trx_ini_err = func.yfactor_analysis(f, Wamb_ini, WLN2_ini, Wamb_ini_err, WLN2_ini_err, Tamb_ini)\n",
    "        Gain_fin, Trx_fin, Gain_fin_err, Trx_fin_err = func.yfactor_analysis(f, Wamb_fin, WLN2_fin, Wamb_fin_err, WLN2_fin_err, Tamb_fin)\n",
    "\n",
    "        Gain = (Gain_ini + Gain_fin) / 2\n",
    "        Trx = (Trx_ini + Trx_fin) / 2\n",
    "\n",
    "        n = len(f)**0.5\n",
    "        print(n)\n",
    "        print(len(f))\n",
    "        print(2e+6/2000)\n",
    "        break\n",
    "        with open(\"/data/ms2840a/result_data/yfactor_result/start_{}GHz.csv\".format(str(start_freq)), \"a\") as f:\n",
    "            writer = csv.writer(f)\n",
    "            writer.writerow([start, np.mean(Gain), np.mean(Trx), np.std(Gain)/n, np.std(Trx)/n, np.mean(Gain_ini), np.mean(Gain_fin), np.mean(Trx_ini), np.mean(Trx_fin), np.std(Gain_ini)/n, np.std(Gain_fin)/n, np.std(Trx_ini)/n, np.std(Trx_fin)/n])\n",
    "\n",
    "\n",
    "    "
   ]
  },
  {
   "cell_type": "code",
   "execution_count": null,
   "id": "2f55d52b-6cf1-4a6b-929f-f89b80501bc3",
   "metadata": {},
   "outputs": [],
   "source": []
  }
 ],
 "metadata": {
  "kernelspec": {
   "display_name": "Python 3 (ipykernel)",
   "language": "python",
   "name": "python3"
  },
  "language_info": {
   "codemirror_mode": {
    "name": "ipython",
    "version": 3
   },
   "file_extension": ".py",
   "mimetype": "text/x-python",
   "name": "python",
   "nbconvert_exporter": "python",
   "pygments_lexer": "ipython3",
   "version": "3.8.10"
  }
 },
 "nbformat": 4,
 "nbformat_minor": 5
}
