{
 "cells": [
  {
   "cell_type": "code",
   "execution_count": 1,
   "id": "d8b511a8-f534-48a5-85af-a90253b4aec6",
   "metadata": {},
   "outputs": [],
   "source": [
    "import numpy as np\n",
    "import matplotlib.pyplot as plt\n",
    "import csv\n",
    "import sys\n",
    "import lmfit\n",
    "from scipy import special\n",
    "import function as func"
   ]
  },
  {
   "cell_type": "code",
   "execution_count": 2,
   "id": "8716cad6-5f4f-485c-bd51-66e70445aacf",
   "metadata": {},
   "outputs": [],
   "source": [
    "# Constants\n",
    "v_c = 220.e+3 # [m/sec] speed of solar system\n",
    "v_E = v_c # [m/sec] speed of earth\n",
    "c = 299792458. # [m/sec] speed of light from wikipedia\n",
    "k_B = 1.380649e-23 # [J/K] boltzmann constant\n",
    "rbw = 3.e+2 # [Hz]\n",
    "binwidth = 2.e+3 # [Hz]\n",
    "T_LN2 = 77 # [K]"
   ]
  },
  {
   "cell_type": "code",
   "execution_count": 3,
   "id": "83ceeca0-c81f-4979-b9d5-c418f9e06186",
   "metadata": {},
   "outputs": [],
   "source": [
    "def cummulative_velocity(v):\n",
    "    C = v_c/(2.*np.sqrt(np.pi)*v_E) \n",
    "    exp_p = np.exp( -1. * np.power((v+v_E)/v_c, 2.) )\n",
    "    exp_m = np.exp( -1. * np.power((v-v_E)/v_c, 2.) )\n",
    "    erf_p = special.erf((v+v_E)/v_c)\n",
    "    erf_m = special.erf((v-v_E)/v_c)\n",
    "\n",
    "    f = C*(exp_p-exp_m) + 1./2. * (erf_p + erf_m)\n",
    "    return f\n",
    "\n",
    "def freq_to_velocity(freq, freq_0):\n",
    "    ok = (freq>freq_0)\n",
    "    v  = np.full(len(freq), 0.)\n",
    "    v[ok] = c * np.sqrt( 1. - np.power(freq_0/freq[ok], 2.))\n",
    "    return v\n",
    "\n",
    "def integral_binwidth_velocity(freq, freq_0, binwidth):\n",
    "    v_p = freq_to_velocity(freq+binwidth/2., freq_0)\n",
    "    v_m = freq_to_velocity(freq-binwidth/2., freq_0)\n",
    "    integral = cummulative_velocity(v_p) - cummulative_velocity(v_m)\n",
    "    return integral\n",
    "\n",
    "def fit_func(freq, a, b, P, freq_0):\n",
    "    integral = integral_binwidth_velocity(freq, freq_0, binwidth)\n",
    "    peak = P * integral\n",
    "    power = peak + a*(freq-freq_0) + b\n",
    "    return power\n",
    "\n",
    "def residual(params, fit_freq, fit_Psig, yerr, freq_0):\n",
    "    a = params['a']\n",
    "    b = params['b']\n",
    "    P = params['P']\n",
    "    y_model = fit_func(fit_freq, a, b, P, freq_0)\n",
    "    chi = (fit_Psig - y_model)/yerr\n",
    "    o = np.isfinite(chi)\n",
    "    return chi[o]"
   ]
  },
  {
   "cell_type": "code",
   "execution_count": 4,
   "id": "bb4c8a59-e79f-4eec-a137-64923ac26886",
   "metadata": {},
   "outputs": [],
   "source": [
    "def fit_signal(initial, final):\n",
    "    for i in range(initial, final, 2000):\n",
    "        word = list(str(i))\n",
    "        word.insert(2, \".\")\n",
    "        start = \"\".join(word)\n",
    "        #print(start)\n",
    "\n",
    "        signal = func.csv_to_array(\"/data/ms2840a/result_data/signal_power/start_{}GHz.csv\".format(start))\n",
    "        freq, W_sub, W_sub_err = func.rebin_func(signal[\"freq\"], signal[\"W_sub\"])\n",
    "\n",
    "        with open(\"/data/ms2840a/result_data/fit_result/start_{}GHz.csv\".format(start), \"w\") as f:\n",
    "            writer = csv.writer(f)\n",
    "            writer.writerow([\"freq_0\", \"a\", \"b\", \"P\", \"a_err\", \"b_err\", \"P_err\", \"chi_squared\"])\n",
    "\n",
    "        params = lmfit.Parameters()\n",
    "        params.add('a', value=1.)\n",
    "        params.add('b', value=1.)\n",
    "        params.add('P', value=1.)\n",
    "\n",
    "        start_col = (int(float(start) * 1.e+6 + 250. - start_freq * 1.e+6) // 2000) * 2.e+6\n",
    "        step_points = int(2.e+6/binwidth)\n",
    "        for step in range(step_points - 1):\n",
    "            freq_0 = start_freq * 1.e+9 + start_col + step * binwidth\n",
    "\n",
    "            fit_freq = []\n",
    "            fit_Psig = []\n",
    "            for v, p in zip(freq, W_sub):\n",
    "                if v >= freq_0 - 60.e+3 and v <= freq_0 + 180.e+3:\n",
    "                    fit_freq.append(v)\n",
    "                    fit_Psig.append(p)\n",
    "\n",
    "            fit_freq = np.array(fit_freq)\n",
    "            fit_Psig = np.array(fit_Psig)\n",
    "            Perr = np.std(fit_Psig)\n",
    "\n",
    "            result = lmfit.minimize(residual, params, args=(fit_freq, fit_Psig, Perr, freq_0))\n",
    "            with open(\"/data/ms2840a/result_data/fit_result/start_{}GHz.csv\".format(start), \"a\") as f:\n",
    "                writer = csv.writer(f)\n",
    "                a = result.params[\"a\"].value\n",
    "                b = result.params[\"b\"].value\n",
    "                P = result.params[\"P\"].value\n",
    "                a_err = result.params[\"a\"].stderr\n",
    "                b_err = result.params[\"b\"].stderr\n",
    "                P_err = result.params[\"P\"].stderr\n",
    "                chi = result.redchi\n",
    "                writer.writerow([freq_0, a, b, P, a_err, b_err, P_err, chi])"
   ]
  },
  {
   "cell_type": "code",
   "execution_count": 5,
   "id": "3100899b-e86c-481d-9000-7a73515357ae",
   "metadata": {},
   "outputs": [
    {
     "name": "stdout",
     "output_type": "stream",
     "text": [
      "18.0\n"
     ]
    },
    {
     "ename": "ValueError",
     "evalue": "too many values to unpack (expected 2)",
     "output_type": "error",
     "traceback": [
      "\u001b[0;31m---------------------------------------------------------------------------\u001b[0m",
      "\u001b[0;31mValueError\u001b[0m                                Traceback (most recent call last)",
      "\u001b[0;32m/tmp/ipykernel_76343/3311998852.py\u001b[0m in \u001b[0;36m<module>\u001b[0;34m\u001b[0m\n\u001b[1;32m      9\u001b[0m         \u001b[0mfinal\u001b[0m \u001b[0;34m=\u001b[0m \u001b[0mint\u001b[0m\u001b[0;34m(\u001b[0m\u001b[0minitial\u001b[0m \u001b[0;34m+\u001b[0m \u001b[0;36m1.e+5\u001b[0m\u001b[0;34m)\u001b[0m\u001b[0;34m\u001b[0m\u001b[0;34m\u001b[0m\u001b[0m\n\u001b[1;32m     10\u001b[0m \u001b[0;34m\u001b[0m\u001b[0m\n\u001b[0;32m---> 11\u001b[0;31m         \u001b[0mfit_signal\u001b[0m\u001b[0;34m(\u001b[0m\u001b[0minitial\u001b[0m\u001b[0;34m,\u001b[0m \u001b[0mfinal\u001b[0m\u001b[0;34m)\u001b[0m\u001b[0;34m\u001b[0m\u001b[0;34m\u001b[0m\u001b[0m\n\u001b[0m\u001b[1;32m     12\u001b[0m \u001b[0;34m\u001b[0m\u001b[0m\n\u001b[1;32m     13\u001b[0m \u001b[0;34m\u001b[0m\u001b[0m\n",
      "\u001b[0;32m/tmp/ipykernel_76343/2361849338.py\u001b[0m in \u001b[0;36mfit_signal\u001b[0;34m(initial, final)\u001b[0m\n\u001b[1;32m      7\u001b[0m \u001b[0;34m\u001b[0m\u001b[0m\n\u001b[1;32m      8\u001b[0m         \u001b[0msignal\u001b[0m \u001b[0;34m=\u001b[0m \u001b[0mfunc\u001b[0m\u001b[0;34m.\u001b[0m\u001b[0mcsv_to_array\u001b[0m\u001b[0;34m(\u001b[0m\u001b[0;34m\"/data/ms2840a/result_data/signal_power/start_{}GHz.csv\"\u001b[0m\u001b[0;34m.\u001b[0m\u001b[0mformat\u001b[0m\u001b[0;34m(\u001b[0m\u001b[0mstart\u001b[0m\u001b[0;34m)\u001b[0m\u001b[0;34m)\u001b[0m\u001b[0;34m\u001b[0m\u001b[0;34m\u001b[0m\u001b[0m\n\u001b[0;32m----> 9\u001b[0;31m         \u001b[0mfreq\u001b[0m\u001b[0;34m,\u001b[0m \u001b[0mW_sub\u001b[0m \u001b[0;34m=\u001b[0m \u001b[0mfunc\u001b[0m\u001b[0;34m.\u001b[0m\u001b[0mrebin_func\u001b[0m\u001b[0;34m(\u001b[0m\u001b[0msignal\u001b[0m\u001b[0;34m[\u001b[0m\u001b[0;34m\"freq\"\u001b[0m\u001b[0;34m]\u001b[0m\u001b[0;34m,\u001b[0m \u001b[0msignal\u001b[0m\u001b[0;34m[\u001b[0m\u001b[0;34m\"W_sub\"\u001b[0m\u001b[0;34m]\u001b[0m\u001b[0;34m)\u001b[0m\u001b[0;34m\u001b[0m\u001b[0;34m\u001b[0m\u001b[0m\n\u001b[0m\u001b[1;32m     10\u001b[0m \u001b[0;34m\u001b[0m\u001b[0m\n\u001b[1;32m     11\u001b[0m         \u001b[0;32mwith\u001b[0m \u001b[0mopen\u001b[0m\u001b[0;34m(\u001b[0m\u001b[0;34m\"/data/ms2840a/result_data/fit_result/start_{}GHz.csv\"\u001b[0m\u001b[0;34m.\u001b[0m\u001b[0mformat\u001b[0m\u001b[0;34m(\u001b[0m\u001b[0mstart\u001b[0m\u001b[0;34m)\u001b[0m\u001b[0;34m,\u001b[0m \u001b[0;34m\"w\"\u001b[0m\u001b[0;34m)\u001b[0m \u001b[0;32mas\u001b[0m \u001b[0mf\u001b[0m\u001b[0;34m:\u001b[0m\u001b[0;34m\u001b[0m\u001b[0;34m\u001b[0m\u001b[0m\n",
      "\u001b[0;31mValueError\u001b[0m: too many values to unpack (expected 2)"
     ]
    }
   ],
   "source": [
    "if __name__ == \"__main__\":\n",
    "    for i in range(180, 181, 1):\n",
    "        word = list(str(i))\n",
    "        word.insert(2, \".\")\n",
    "        start_freq = float(\"\".join(word))\n",
    "        print(start_freq)\n",
    "        \n",
    "        initial = int(start_freq * 1.e+6 - 250)\n",
    "        final = int(initial + 1.e+5)\n",
    "        \n",
    "        fit_signal(initial, final)\n",
    "\n",
    "    "
   ]
  },
  {
   "cell_type": "code",
   "execution_count": null,
   "id": "0a98c3a0-0b9f-4bdd-a69c-b506dae25949",
   "metadata": {},
   "outputs": [],
   "source": []
  }
 ],
 "metadata": {
  "kernelspec": {
   "display_name": "Python 3 (ipykernel)",
   "language": "python",
   "name": "python3"
  },
  "language_info": {
   "codemirror_mode": {
    "name": "ipython",
    "version": 3
   },
   "file_extension": ".py",
   "mimetype": "text/x-python",
   "name": "python",
   "nbconvert_exporter": "python",
   "pygments_lexer": "ipython3",
   "version": "3.8.10"
  }
 },
 "nbformat": 4,
 "nbformat_minor": 5
}
