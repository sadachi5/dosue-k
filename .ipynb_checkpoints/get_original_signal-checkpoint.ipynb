{
 "cells": [
  {
   "cell_type": "code",
   "execution_count": 1,
   "id": "616609db-c865-47d1-9207-2a8c11403e8c",
   "metadata": {},
   "outputs": [],
   "source": [
    "import numpy as np\n",
    "import matplotlib.pyplot as plt\n",
    "import csv\n",
    "import sys\n",
    "import function as func"
   ]
  },
  {
   "cell_type": "code",
   "execution_count": 2,
   "id": "2e6355ae-b9ad-4f5b-b7fe-e8b4592cbb99",
   "metadata": {},
   "outputs": [],
   "source": [
    "# Constants\n",
    "v_c = 220.e+3 # [m/sec] speed of solar system\n",
    "v_E = v_c # [m/sec] speed of earth\n",
    "c = 299792458. # [m/sec] speed of light from wikipedia\n",
    "k_B = 1.380649e-23 # [J/K] boltzmann constant\n",
    "rbw = 3.e+2 # [Hz]\n",
    "binwidth = 2.e+3 # [Hz]\n",
    "TLN2 = 77 # [K]"
   ]
  },
  {
   "cell_type": "code",
   "execution_count": 4,
   "id": "7c404957-2955-4dde-b988-c3f73d08876d",
   "metadata": {},
   "outputs": [
    {
     "name": "stdout",
     "output_type": "stream",
     "text": [
      "18.0\n"
     ]
    },
    {
     "ename": "TypeError",
     "evalue": "cannot convert the series to <class 'float'>",
     "output_type": "error",
     "traceback": [
      "\u001b[0;31m---------------------------------------------------------------------------\u001b[0m",
      "\u001b[0;31mTypeError\u001b[0m                                 Traceback (most recent call last)",
      "\u001b[0;32m/tmp/ipykernel_79226/2146190444.py\u001b[0m in \u001b[0;36m<module>\u001b[0;34m\u001b[0m\n\u001b[1;32m      9\u001b[0m         \u001b[0mfinal\u001b[0m \u001b[0;34m=\u001b[0m \u001b[0mint\u001b[0m\u001b[0;34m(\u001b[0m\u001b[0minitial\u001b[0m \u001b[0;34m+\u001b[0m \u001b[0;36m1.e+5\u001b[0m\u001b[0;34m)\u001b[0m\u001b[0;34m\u001b[0m\u001b[0;34m\u001b[0m\u001b[0m\n\u001b[1;32m     10\u001b[0m \u001b[0;34m\u001b[0m\u001b[0m\n\u001b[0;32m---> 11\u001b[0;31m         \u001b[0myfactor\u001b[0m \u001b[0;34m=\u001b[0m \u001b[0mfunc\u001b[0m\u001b[0;34m.\u001b[0m\u001b[0mcsv_to_array\u001b[0m\u001b[0;34m(\u001b[0m\u001b[0;34m\"/data/ms2840a/result_data/yfactor_result_rebin2MHz.csv\"\u001b[0m\u001b[0;34m.\u001b[0m\u001b[0mformat\u001b[0m\u001b[0;34m(\u001b[0m\u001b[0mstr\u001b[0m\u001b[0;34m(\u001b[0m\u001b[0mstart_freq\u001b[0m\u001b[0;34m)\u001b[0m\u001b[0;34m)\u001b[0m\u001b[0;34m)\u001b[0m\u001b[0;34m\u001b[0m\u001b[0;34m\u001b[0m\u001b[0m\n\u001b[0m\u001b[1;32m     12\u001b[0m \u001b[0;34m\u001b[0m\u001b[0m\n\u001b[1;32m     13\u001b[0m         \u001b[0;32mfor\u001b[0m \u001b[0mi\u001b[0m \u001b[0;32min\u001b[0m \u001b[0mrange\u001b[0m\u001b[0;34m(\u001b[0m\u001b[0minitial\u001b[0m\u001b[0;34m,\u001b[0m \u001b[0mfinal\u001b[0m\u001b[0;34m,\u001b[0m \u001b[0;36m2000\u001b[0m\u001b[0;34m)\u001b[0m\u001b[0;34m:\u001b[0m\u001b[0;34m\u001b[0m\u001b[0;34m\u001b[0m\u001b[0m\n",
      "\u001b[0;32m~/script/function.py\u001b[0m in \u001b[0;36mcsv_to_array\u001b[0;34m(path)\u001b[0m\n\u001b[1;32m     26\u001b[0m     \u001b[0mdf\u001b[0m \u001b[0;34m=\u001b[0m \u001b[0mpd\u001b[0m\u001b[0;34m.\u001b[0m\u001b[0mread_csv\u001b[0m\u001b[0;34m(\u001b[0m\u001b[0mpath\u001b[0m\u001b[0;34m)\u001b[0m\u001b[0;34m\u001b[0m\u001b[0;34m\u001b[0m\u001b[0m\n\u001b[1;32m     27\u001b[0m     \u001b[0;32mfor\u001b[0m \u001b[0mcol\u001b[0m \u001b[0;32min\u001b[0m \u001b[0mdf\u001b[0m\u001b[0;34m.\u001b[0m\u001b[0mcolumns\u001b[0m\u001b[0;34m:\u001b[0m\u001b[0;34m\u001b[0m\u001b[0;34m\u001b[0m\u001b[0m\n\u001b[0;32m---> 28\u001b[0;31m         \u001b[0mresult\u001b[0m\u001b[0;34m[\u001b[0m\u001b[0mstr\u001b[0m\u001b[0;34m(\u001b[0m\u001b[0mcol\u001b[0m\u001b[0;34m)\u001b[0m\u001b[0;34m]\u001b[0m \u001b[0;34m=\u001b[0m  \u001b[0mnp\u001b[0m\u001b[0;34m.\u001b[0m\u001b[0marray\u001b[0m\u001b[0;34m(\u001b[0m\u001b[0mdf\u001b[0m\u001b[0;34m[\u001b[0m\u001b[0mcol\u001b[0m\u001b[0;34m]\u001b[0m\u001b[0;34m)\u001b[0m\u001b[0;34m\u001b[0m\u001b[0;34m\u001b[0m\u001b[0m\n\u001b[0m\u001b[1;32m     29\u001b[0m \u001b[0;34m\u001b[0m\u001b[0m\n\u001b[1;32m     30\u001b[0m     \u001b[0;32mreturn\u001b[0m \u001b[0mresult\u001b[0m\u001b[0;34m\u001b[0m\u001b[0;34m\u001b[0m\u001b[0m\n",
      "\u001b[0;32m~/test/lib/python3.8/site-packages/pandas/core/series.py\u001b[0m in \u001b[0;36mwrapper\u001b[0;34m(self)\u001b[0m\n\u001b[1;32m    183\u001b[0m         \u001b[0;32mif\u001b[0m \u001b[0mlen\u001b[0m\u001b[0;34m(\u001b[0m\u001b[0mself\u001b[0m\u001b[0;34m)\u001b[0m \u001b[0;34m==\u001b[0m \u001b[0;36m1\u001b[0m\u001b[0;34m:\u001b[0m\u001b[0;34m\u001b[0m\u001b[0;34m\u001b[0m\u001b[0m\n\u001b[1;32m    184\u001b[0m             \u001b[0;32mreturn\u001b[0m \u001b[0mconverter\u001b[0m\u001b[0;34m(\u001b[0m\u001b[0mself\u001b[0m\u001b[0;34m.\u001b[0m\u001b[0miloc\u001b[0m\u001b[0;34m[\u001b[0m\u001b[0;36m0\u001b[0m\u001b[0;34m]\u001b[0m\u001b[0;34m)\u001b[0m\u001b[0;34m\u001b[0m\u001b[0;34m\u001b[0m\u001b[0m\n\u001b[0;32m--> 185\u001b[0;31m         \u001b[0;32mraise\u001b[0m \u001b[0mTypeError\u001b[0m\u001b[0;34m(\u001b[0m\u001b[0;34mf\"cannot convert the series to {converter}\"\u001b[0m\u001b[0;34m)\u001b[0m\u001b[0;34m\u001b[0m\u001b[0;34m\u001b[0m\u001b[0m\n\u001b[0m\u001b[1;32m    186\u001b[0m \u001b[0;34m\u001b[0m\u001b[0m\n\u001b[1;32m    187\u001b[0m     \u001b[0mwrapper\u001b[0m\u001b[0;34m.\u001b[0m\u001b[0m__name__\u001b[0m \u001b[0;34m=\u001b[0m \u001b[0;34mf\"__{converter.__name__}__\"\u001b[0m\u001b[0;34m\u001b[0m\u001b[0;34m\u001b[0m\u001b[0m\n",
      "\u001b[0;31mTypeError\u001b[0m: cannot convert the series to <class 'float'>"
     ]
    }
   ],
   "source": [
    "if __name__ == \"__main__\":\n",
    "    for i in range(180, 181, 1):\n",
    "        word = list(str(i))\n",
    "        word.insert(2, \".\")\n",
    "        start_freq = float(\"\".join(word))\n",
    "        print(start_freq)\n",
    "        \n",
    "        initial = int(start_freq * 1.e+6 - 250)\n",
    "        final = int(initial + 1.e+5)\n",
    "\n",
    "        yfactor = func.csv_to_array(\"/data/ms2840a/result_data/yfactor_result_rebin2MHz.csv\".format(str(start_freq)))\n",
    "\n",
    "        for i in range(initial, final, 2000):\n",
    "            word = list(str(i))\n",
    "            word.insert(2, \".\")\n",
    "            start = \"\".join(word)\n",
    "            #print(start)\n",
    "\n",
    "            Gain = 0\n",
    "            Trx = 0\n",
    "            Gain_err = 0\n",
    "            Trx_err = 0\n",
    "            for _f, freq in enumerate(yfactor[\"freq\"]):\n",
    "                if float(freq) * 1e+6 == float(start) * 1e+6:\n",
    "                    Gain = yfactor[\"Gain\"][_f]\n",
    "                    print(type(yfactor[\"Gain\"][_f]))\n",
    "                    Trx = yfactor[\"Trx\"][_f]\n",
    "                    Gain_err = yfactor[\"Gain_err\"][_f]\n",
    "                    Trx_err = yfactor[\"Trx_err\"][_f]\n",
    "                    break\n",
    "\n",
    "            W_twelve = []\n",
    "            freq = np.array([])\n",
    "            for j in range(12):\n",
    "                path = \"/data/ms2840a/signal_raw_data/scan_FFT_\" + start + \"GHz_span2.50MHz_rbw0.3kHz_2.0sec_1counts_12runs_\" + str(j) + \".dat\"\n",
    "                freq, W = func.dat_to_array(path)\n",
    "                print(Gain)\n",
    "                print(W)\n",
    "                print(freq)\n",
    "                print(type(Gain))\n",
    "                print(W/int(Gain))\n",
    "                W_twelve.append(W/Gain - k_B*Trx*rbw)\n",
    "\n",
    "            column = [\"freq\"] + [\"W_\".format(str(x)) for x in range(12)]\n",
    "            with open(\"/data/ms2840a/result_data/signal_12_data/start_{}GHz.csv\".format(start), \"w\") as f:\n",
    "                writer = csv.writer(f)\n",
    "                writer.writerow(column)\n",
    "                for j in range(len(freq)):\n",
    "                    writer.writerow([freq[j]] + [W_twelve[x][j] for x in range(12)])"
   ]
  },
  {
   "cell_type": "code",
   "execution_count": null,
   "id": "4d5583cf-67ec-42c5-8342-523a091d28c6",
   "metadata": {},
   "outputs": [],
   "source": []
  },
  {
   "cell_type": "code",
   "execution_count": null,
   "id": "763f4b50-8ffc-4d7e-9657-d8c1f31901b3",
   "metadata": {},
   "outputs": [],
   "source": []
  }
 ],
 "metadata": {
  "kernelspec": {
   "display_name": "Python 3 (ipykernel)",
   "language": "python",
   "name": "python3"
  },
  "language_info": {
   "codemirror_mode": {
    "name": "ipython",
    "version": 3
   },
   "file_extension": ".py",
   "mimetype": "text/x-python",
   "name": "python",
   "nbconvert_exporter": "python",
   "pygments_lexer": "ipython3",
   "version": "3.8.10"
  }
 },
 "nbformat": 4,
 "nbformat_minor": 5
}
