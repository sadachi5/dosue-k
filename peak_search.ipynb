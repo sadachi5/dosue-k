{
 "cells": [
  {
   "cell_type": "code",
   "execution_count": 1,
   "id": "d8b511a8-f534-48a5-85af-a90253b4aec6",
   "metadata": {},
   "outputs": [],
   "source": [
    "import numpy as np\n",
    "import matplotlib.pyplot as plt\n",
    "import csv\n",
    "import sys\n",
    "import lmfit\n",
    "from scipy import special\n",
    "import function as func\n",
    "import fit_script as fit"
   ]
  },
  {
   "cell_type": "code",
   "execution_count": 9,
   "id": "3100899b-e86c-481d-9000-7a73515357ae",
   "metadata": {},
   "outputs": [
    {
     "name": "stdout",
     "output_type": "stream",
     "text": [
      "18.189750\n",
      "18.335750\n",
      "19.119750\n",
      "19.185750\n",
      "19.439750\n",
      "19.477750\n",
      "19.765750\n",
      "19.793750\n",
      "19.817750\n",
      "20.005750\n",
      "20.295750\n",
      "20.301750\n",
      "20.489750\n",
      "20.539750\n",
      "20.891750\n",
      "21.441750\n",
      "21.807750\n",
      "22.521750\n",
      "22.671750\n",
      "23.305750\n",
      "23.807750\n",
      "23.933750\n",
      "25.327750\n",
      "25.351750\n",
      "25.859750\n",
      "26.273750\n",
      "26.345750\n"
     ]
    }
   ],
   "source": [
    "if __name__ == \"__main__\":\n",
    "    #check_freq = np.array([18190, 18336, 19120, 19186, 19440, 19478, 19766, 19794, 19818, 20006, 20296, 20302, 20490, 20540, 20892, 21442, 21808, 22522, 22672, 23306, 23808, 23934, 25328, 25352, 25860, 26274, 26346])\n",
    "\n",
    "    \n",
    "    start_freq = 26.4\n",
    "    print(start_freq)\n",
    "\n",
    "    initial = int(start_freq * 1.e+6 - 250)\n",
    "    final = int(initial + 1.e+5)\n",
    "    \n",
    "    \n",
    "    for i in range():\n",
    "        word = list(str(i*1000 - 250))\n",
    "        word.insert(2, \".\")\n",
    "        start = \"\".join(word)\n",
    "        print(start)\n",
    "\n",
    "        signal = func.csv_to_array(\"/data/ms2840a/result_data/check_result/signal_12_data/start_{}GHz.csv\".format(start))\n",
    "        W1 = (signal[\"W_0\"] + signal[\"W_1\"] + signal[\"W_2\"] + signal[\"W_3\"] + signal[\"W_4\"] + signal[\"W_5\"] + signal[\"W_6\"] + signal[\"W_7\"] + signal[\"W_8\"] + signal[\"W_9\"] + signal[\"W_10\"] + signal[\"W_11\"])/12 \n",
    "\n",
    "        signal = func.csv_to_array(\"/data/ms2840a/result_data/signal_12_data/start_{}GHz.csv\".format(start))\n",
    "        W2 = (signal[\"W_0\"] + signal[\"W_1\"] + signal[\"W_2\"] + signal[\"W_3\"] + signal[\"W_4\"] + signal[\"W_5\"] + signal[\"W_6\"] + signal[\"W_7\"] + signal[\"W_8\"] + signal[\"W_9\"] + signal[\"W_10\"] + signal[\"W_11\"])/12 \n",
    "\n",
    "        \n",
    "        freq, W, W_err = func.rebin_func(signal[\"freq\"], (W1+W2/10)/1.1)\n",
    "\n",
    "        # path for fit result on W1(additional measurement)+W2\n",
    "        path = \"/data/ms2840a/result_data/check_result/fit_result_mean_W/start_{}GHz.csv\".format(start)\n",
    "\n",
    "        fit.fitting(path, start, start_freq, freq, W)\n",
    "\n",
    "    "
   ]
  },
  {
   "cell_type": "code",
   "execution_count": null,
   "id": "0a98c3a0-0b9f-4bdd-a69c-b506dae25949",
   "metadata": {},
   "outputs": [],
   "source": []
  }
 ],
 "metadata": {
  "kernelspec": {
   "display_name": "Python 3 (ipykernel)",
   "language": "python",
   "name": "python3"
  },
  "language_info": {
   "codemirror_mode": {
    "name": "ipython",
    "version": 3
   },
   "file_extension": ".py",
   "mimetype": "text/x-python",
   "name": "python",
   "nbconvert_exporter": "python",
   "pygments_lexer": "ipython3",
   "version": "3.8.10"
  }
 },
 "nbformat": 4,
 "nbformat_minor": 5
}
